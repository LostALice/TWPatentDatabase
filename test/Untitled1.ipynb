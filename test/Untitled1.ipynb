{
 "cells": [
  {
   "cell_type": "code",
   "execution_count": null,
   "id": "168d1a49",
   "metadata": {},
   "outputs": [],
   "source": [
    "regex = r\"---\\s*Page\\s*(\\d+)\\s*---\\s*([\\s\\S]*?)(?=(?:---\\s*Page\\s*\\d+\\s*---)|$)\"\n",
    "\n",
    "\n",
    "txt = \"\"\"--- Page 1 ---\n",
    "202509128\n",
    "(19)中華民國智慧財產局 (12)發明說明書公開本 (11)公開編號 TW 202509128 A Inelleciud Soiery (43)公開日:!中華民國114 (2025)年03月01日\n",
    "(21)申請案號 113131578 (22)申請日 : 中華民國 113 (2024)年08月 22 日 (51)Int. Cl. C08J9/12 (2006.01) C08681/00 (2006.01) C08167/02 (2006.01) C08171/00 (2006.01) C08K5/098 (2006.01) B29D35/00 (2010.01) (30)優先權 2023/08/24 美國 63/578,430 (71)申請人:財團法人工業技術研究院(中華民國 IDUSTRIAL TECHNOLOGI RESEARCH INSTITUTE (TW) 新竹縣竹東鎮中興路4段195號 (72)發明人:吳晉安 WU,JIAlTW) ;吳志郎 WU, CHILANG TW) 張勝隆 CHAlG, SHEHGLUIG TW) 陳建明 CHEN CHIElMIG{TW) (74)代理人:洪澄文;洪茂 申請實體審查:有 申請專利範圍項數:16項 圖式數:0 40 頁\n",
    "(54)名稱 發泡體 (57)摘要 本揭露提供一種發泡體!該發泡體由一發泡材料及複數個泡孔所構成 且複數個泡孔係配置於 該發泡材料中'其中該發泡材料由一發泡組合物所製備!該發泡組合物包含: 0.01至2.0重量份之 流動助劑'以及100重量份之嵌段共聚物!該嵌段共聚物包含一第一嵌段`一第二嵌段`及一連接 基團;該第一嵌段藉由該連接基團與該第二嵌段連接!該第一嵌段係一芳香族聚酯嵌段;該第二嵌 段係一脂肪族聚醚嵌段`脂肪族聚酯嵌段`或脂肪族聚碳酸酯嵌段;以及'該連接基團係一多元醇 去氫的殘基 Afoam is provided. The foam consists ofa foaming material and a plurality ofcells arranged within the foaming material. The foaming material is prepared from acomposition, which includes O.Ol-2.0 parts by weight ofa flow aid and IO0 parts by weight ofa block copolymer. The block copolymer consists ofa first block,asecond block, anda linking moiety, where the first blockis connected to the second block via the linking moiety. The first block is an aromatic polyester block; the second blockis an aliphatic polyether block, an aliphatic polyester block, oran aliphatic polycarbonate block; and the linking moietyisaresidue ofa dehydrogenated polyol.\n",
    "\n",
    "--- Page 2 ---\n",
    "202505利紊號 113131578 20290%\"[\n",
    "發明摘要] [中文發明名稱]發泡體\n",
    "英文發明名稱] FOAM\n",
    "[中文]\n",
    "本揭露提供一種發泡體.該發泡體由一發泡材料及複數個泡孔\n",
    "所構成'且複數個泡孔係配置於該發泡材料中'其中該發泡材料由\n",
    "發泡組合物所製備.該發泡組合物包含:0.01至2.0重量份之流動\n",
    "助劑'以及100重量份之嵌段共聚物 .該嵌段共聚物包含一第一嵌\n",
    "段`一第二嵌段`及一連接基團;該第一嵌段藉由該連接基團與該\n",
    "第二嵌段連接.該第一嵌段係一芳香族聚酯嵌段;該第二嵌段係一\n",
    "脂肪族聚醚嵌段`脂肪族聚酯嵌段`或脂肪族聚碳酸酯嵌段;以及;\n",
    "該連接基團係一多元醇去氫的殘基\n",
    "英文]\n",
    "\n",
    "foam is provided. The foam consists of a foaming\n",
    "material and d plurality of cells arranged within the foaming material The foaming material is prepared from a\n",
    "composition, which includes 0.01-2.0 parts by weight of a\n",
    "flo w aid and 100 parts by weight ofa block copolymer. The\n",
    "block copolymer consists of a first block, a second block,\n",
    "and d linking moiety, where the first block is connected t0\n",
    "第1頁'共2頁(發明摘要)\n",
    "P230269000TW F GCH1\n",
    "113131578\n",
    "表單編號 A0101\n",
    "1132045571-0\n",
    "\n",
    "--- Page 3 ---\n",
    "202509128\"\"\"\n",
    "\n",
    "import re\n",
    "\n",
    "\n",
    "re.findall(pattern=regex, string=txt)\n"
   ]
  }
 ],
 "metadata": {
  "kernelspec": {
   "display_name": "Python 3",
   "language": "python",
   "name": "python3"
  },
  "language_info": {
   "codemirror_mode": {
    "name": "ipython",
    "version": 3
   },
   "file_extension": ".py",
   "mimetype": "text/x-python",
   "name": "python",
   "nbconvert_exporter": "python",
   "pygments_lexer": "ipython3",
   "version": "3.11.9"
  }
 },
 "nbformat": 4,
 "nbformat_minor": 5
}
